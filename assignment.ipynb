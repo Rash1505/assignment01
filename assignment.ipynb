{
 "cells": [
  {
   "cell_type": "code",
   "execution_count": null,
   "id": "ac691f88-fff5-4508-939a-1dc330be21cb",
   "metadata": {},
   "outputs": [],
   "source": [
    "Q1. Guido Van Rossu"
   ]
  },
  {
   "cell_type": "code",
   "execution_count": null,
   "id": "5f07df36-80c0-4c1e-a814-f653134f1e95",
   "metadata": {},
   "outputs": [],
   "source": [
    "Q2. Object-oriented, Structured and functional programming"
   ]
  },
  {
   "cell_type": "code",
   "execution_count": null,
   "id": "7315f2d8-99f7-4871-bed4-b937107236d6",
   "metadata": {},
   "outputs": [],
   "source": [
    "Q3. Yes"
   ]
  },
  {
   "cell_type": "code",
   "execution_count": null,
   "id": "34348ec6-1b83-472b-978c-1742b5f0ef5c",
   "metadata": {},
   "outputs": [],
   "source": [
    "Q4. .py"
   ]
  },
  {
   "cell_type": "code",
   "execution_count": null,
   "id": "8fc2e4b0-b382-4958-bd4e-3c8708e81f86",
   "metadata": {},
   "outputs": [],
   "source": [
    "Q5. Interpreted languuage"
   ]
  },
  {
   "cell_type": "code",
   "execution_count": null,
   "id": "0d18145b-f682-4358-88e8-ccc2f4fe2f24",
   "metadata": {},
   "outputs": [],
   "source": [
    "Q6. a module, a function body, a class defination."
   ]
  },
  {
   "cell_type": "code",
   "execution_count": null,
   "id": "3f4604a8-81b5-43aa-89be-53c8925c1c1e",
   "metadata": {},
   "outputs": [],
   "source": [
    "Q7. # (hash symbol)"
   ]
  },
  {
   "cell_type": "code",
   "execution_count": null,
   "id": "a1d15ffa-67a7-48c8-84f5-a9b3d4beb125",
   "metadata": {},
   "outputs": [],
   "source": [
    "Q8. Function sys. version "
   ]
  },
  {
   "cell_type": "code",
   "execution_count": null,
   "id": "ca751611-841f-4451-8138-e737fe0b554b",
   "metadata": {},
   "outputs": [],
   "source": [
    "Q9. Lambda"
   ]
  },
  {
   "cell_type": "code",
   "execution_count": null,
   "id": "c346a189-6dec-4c24-9ea1-d6d084a3c591",
   "metadata": {},
   "outputs": [],
   "source": [
    "Q10. pip install packages"
   ]
  },
  {
   "cell_type": "code",
   "execution_count": null,
   "id": "c615301c-c274-481c-a3d2-405c718beb88",
   "metadata": {},
   "outputs": [],
   "source": [
    "Q11. bin(), bool(), bytearry(), bytes(), etc."
   ]
  },
  {
   "cell_type": "code",
   "execution_count": null,
   "id": "f556027e-5e49-4266-9bc3-55fcf2a087a0",
   "metadata": {},
   "outputs": [],
   "source": [
    "Q12. 79 Characters"
   ]
  },
  {
   "cell_type": "code",
   "execution_count": null,
   "id": "f9f9e329-03a1-41f5-8960-babe5f16a582",
   "metadata": {},
   "outputs": [],
   "source": [
    "Q13. a) simple to use and understand\n",
    "     b) free and open-source\n",
    "     c) productivity has increased\n",
    "     d) interpreted language\n",
    "     e) Extensive library\n",
    "     f) Portability\n",
    "     g) Supportive community"
   ]
  },
  {
   "cell_type": "code",
   "execution_count": null,
   "id": "54f06515-03ea-43cf-8bdf-01f537ee787b",
   "metadata": {},
   "outputs": [],
   "source": [
    "Q14. involves a private heap containing all python objects and data strutures"
   ]
  },
  {
   "cell_type": "code",
   "execution_count": null,
   "id": "9a6cf524-41bf-4610-a227-5ddd513b4d00",
   "metadata": {},
   "outputs": [],
   "source": [
    "Q15. a) righht clicking PC and going to properties\n",
    "     b) clicking on advanced system settings in the menu on left.\n",
    "     c) clicking on environment variables button on the bottom right\n",
    "     d)  In the system variables , selecting thhe path variable and clicking on edit"
   ]
  },
  {
   "cell_type": "code",
   "execution_count": null,
   "id": "60eaf204-4aba-4d7c-a240-fe74b109d6db",
   "metadata": {},
   "outputs": [],
   "source": [
    "Q16. Yes, it is very important."
   ]
  }
 ],
 "metadata": {
  "kernelspec": {
   "display_name": "Python 3 (ipykernel)",
   "language": "python",
   "name": "python3"
  },
  "language_info": {
   "codemirror_mode": {
    "name": "ipython",
    "version": 3
   },
   "file_extension": ".py",
   "mimetype": "text/x-python",
   "name": "python",
   "nbconvert_exporter": "python",
   "pygments_lexer": "ipython3",
   "version": "3.10.8"
  }
 },
 "nbformat": 4,
 "nbformat_minor": 5
}
